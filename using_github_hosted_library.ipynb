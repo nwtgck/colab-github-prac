{
  "nbformat": 4,
  "nbformat_minor": 0,
  "metadata": {
    "colab": {
      "name": "using-github-hosted-library.ipynb",
      "version": "0.3.2",
      "provenance": [],
      "include_colab_link": true
    }
  },
  "cells": [
    {
      "cell_type": "markdown",
      "metadata": {
        "id": "view-in-github",
        "colab_type": "text"
      },
      "source": [
        "[View in Colaboratory](https://colab.research.google.com/github/nwtgck/colab-github-prac/blob/master/using_github_hosted_library.ipynb)"
      ]
    },
    {
      "metadata": {
        "id": "8GuhjOCWeK8t",
        "colab_type": "code",
        "colab": {
          "base_uri": "https://localhost:8080/",
          "height": 173
        },
        "outputId": "93d3a929-fb73-424d-e1f3-63ca4ed24f11"
      },
      "cell_type": "code",
      "source": [
        "!pip install toml"
      ],
      "execution_count": 3,
      "outputs": [
        {
          "output_type": "stream",
          "text": [
            "Collecting toml\n",
            "  Downloading https://files.pythonhosted.org/packages/f5/f9/044110c267e6408013b85166a7cfcd352cf85275aa8ce700aa5c0eb407ba/toml-0.9.4.tar.gz\n",
            "Building wheels for collected packages: toml\n",
            "  Running setup.py bdist_wheel for toml ... \u001b[?25l-\b \bdone\n",
            "\u001b[?25h  Stored in directory: /content/.cache/pip/wheels/60/a0/8a/eaebd461aa0abf3d38546b12f3b3234de0a39de13374dad39e\n",
            "Successfully built toml\n",
            "Installing collected packages: toml\n",
            "Successfully installed toml-0.9.4\n"
          ],
          "name": "stdout"
        }
      ]
    },
    {
      "metadata": {
        "id": "uxCv-9WTeOyX",
        "colab_type": "code",
        "colab": {
          "base_uri": "https://localhost:8080/",
          "height": 1057
        },
        "outputId": "12d0894d-0c67-400d-ea76-93e1b71e2ef7"
      },
      "cell_type": "code",
      "source": [
        "!pip install --upgrade git+https://github.com/nwtgck/map-classifier-python.git"
      ],
      "execution_count": 4,
      "outputs": [
        {
          "output_type": "stream",
          "text": [
            "Collecting git+https://github.com/nwtgck/map-classifier-python.git\r\n",
            "  Cloning https://github.com/nwtgck/map-classifier-python.git to /tmp/pip-req-build-ZTExB2\n",
            "Requirement not upgraded as not directly required: scikit-learn==0.19.1 in /usr/local/lib/python2.7/dist-packages (from map-classifier==0.4.1) (0.19.1)\n",
            "Collecting scipy==1.0.0 (from map-classifier==0.4.1)\n",
            "\u001b[?25l  Downloading https://files.pythonhosted.org/packages/36/cd/cb310bed153d23f89427f642d52cb74c8465c1b02c3302a89c9c0abd93ce/scipy-1.0.0-cp27-cp27mu-manylinux1_x86_64.whl (46.7MB)\n",
            "\u001b[K    100% |████████████████████████████████| 46.7MB 538kB/s \n",
            "\u001b[?25hCollecting numpy==1.14.0 (from map-classifier==0.4.1)\n",
            "\u001b[?25l  Downloading https://files.pythonhosted.org/packages/0d/8a/e0223a40f980e0442a2045dcf79e4a8a90339593525599a0add318da2428/numpy-1.14.0-cp27-cp27mu-manylinux1_x86_64.whl (16.9MB)\n",
            "\u001b[K    100% |████████████████████████████████| 16.9MB 2.0MB/s \n",
            "\u001b[?25hCollecting coveralls (from map-classifier==0.4.1)\n",
            "  Downloading https://files.pythonhosted.org/packages/6f/c0/cd0b33454c0192cdd63360f8ac2a96a6132f01b34fa70524220c06fd4743/coveralls-1.3.0-py2.py3-none-any.whl\n",
            "Collecting sklearn==0.0 (from map-classifier==0.4.1)\n",
            "  Downloading https://files.pythonhosted.org/packages/1e/7a/dbb3be0ce9bd5c8b7e3d87328e79063f8b263b2b1bfa4774cb1147bfcd3f/sklearn-0.0.tar.gz\n",
            "Requirement not upgraded as not directly required: requests>=1.0.0 in /usr/local/lib/python2.7/dist-packages (from coveralls->map-classifier==0.4.1) (2.18.4)\n",
            "Collecting coverage>=3.6 (from coveralls->map-classifier==0.4.1)\n",
            "\u001b[?25l  Downloading https://files.pythonhosted.org/packages/31/22/724704999cf994b590db9421b5ef1b5122ea485d67d56f9ecf34f2f721ad/coverage-4.5.1-cp27-cp27mu-manylinux1_x86_64.whl (199kB)\n",
            "\u001b[K    100% |████████████████████████████████| 204kB 18.4MB/s \n",
            "\u001b[?25hRequirement not upgraded as not directly required: urllib3[secure]; python_version < \"3\" in /usr/local/lib/python2.7/dist-packages (from coveralls->map-classifier==0.4.1) (1.22)\n",
            "Collecting docopt>=0.6.1 (from coveralls->map-classifier==0.4.1)\n",
            "  Downloading https://files.pythonhosted.org/packages/a2/55/8f8cab2afd404cf578136ef2cc5dfb50baa1761b68c9da1fb1e4eed343c9/docopt-0.6.2.tar.gz\n",
            "Requirement not upgraded as not directly required: idna<2.7,>=2.5 in /usr/local/lib/python2.7/dist-packages (from requests>=1.0.0->coveralls->map-classifier==0.4.1) (2.6)\n",
            "Requirement not upgraded as not directly required: certifi>=2017.4.17 in /usr/local/lib/python2.7/dist-packages (from requests>=1.0.0->coveralls->map-classifier==0.4.1) (2018.4.16)\n",
            "Requirement not upgraded as not directly required: chardet<3.1.0,>=3.0.2 in /usr/local/lib/python2.7/dist-packages (from requests>=1.0.0->coveralls->map-classifier==0.4.1) (3.0.4)\n",
            "Collecting pyOpenSSL>=0.14; python_version <= \"2.7\" and extra == \"secure\" (from urllib3[secure]; python_version < \"3\"->coveralls->map-classifier==0.4.1)\n",
            "\u001b[?25l  Downloading https://files.pythonhosted.org/packages/96/af/9d29e6bd40823061aea2e0574ccb2fcf72bfd6130ce53d32773ec375458c/pyOpenSSL-18.0.0-py2.py3-none-any.whl (53kB)\n",
            "\u001b[K    100% |████████████████████████████████| 61kB 17.4MB/s \n",
            "\u001b[?25hCollecting cryptography>=1.3.4; python_version <= \"2.7\" and extra == \"secure\" (from urllib3[secure]; python_version < \"3\"->coveralls->map-classifier==0.4.1)\n",
            "\u001b[?25l  Downloading https://files.pythonhosted.org/packages/dd/c2/3a5bfefb25690725824ade71e6b65449f0a9f4b29702cce10560f786ebf6/cryptography-2.2.2-cp27-cp27mu-manylinux1_x86_64.whl (2.2MB)\n",
            "\u001b[K    100% |████████████████████████████████| 2.2MB 12.0MB/s \n",
            "\u001b[?25hCollecting ipaddress; python_version <= \"2.7\" and extra == \"secure\" (from urllib3[secure]; python_version < \"3\"->coveralls->map-classifier==0.4.1)\n",
            "  Downloading https://files.pythonhosted.org/packages/fc/d0/7fc3a811e011d4b388be48a0e381db8d990042df54aa4ef4599a31d39853/ipaddress-1.0.22-py2.py3-none-any.whl\n",
            "Requirement not upgraded as not directly required: six>=1.5.2 in /usr/local/lib/python2.7/dist-packages (from pyOpenSSL>=0.14; python_version <= \"2.7\" and extra == \"secure\"->urllib3[secure]; python_version < \"3\"->coveralls->map-classifier==0.4.1) (1.11.0)\n",
            "Collecting cffi>=1.7; platform_python_implementation != \"PyPy\" (from cryptography>=1.3.4; python_version <= \"2.7\" and extra == \"secure\"->urllib3[secure]; python_version < \"3\"->coveralls->map-classifier==0.4.1)\n",
            "\u001b[?25l  Downloading https://files.pythonhosted.org/packages/14/dd/3e7a1e1280e7d767bd3fa15791759c91ec19058ebe31217fe66f3e9a8c49/cffi-1.11.5-cp27-cp27mu-manylinux1_x86_64.whl (407kB)\n",
            "\u001b[K    100% |████████████████████████████████| 409kB 13.3MB/s \n",
            "\u001b[?25hRequirement not upgraded as not directly required: enum34; python_version < \"3\" in /usr/local/lib/python2.7/dist-packages (from cryptography>=1.3.4; python_version <= \"2.7\" and extra == \"secure\"->urllib3[secure]; python_version < \"3\"->coveralls->map-classifier==0.4.1) (1.1.6)\n",
            "Collecting asn1crypto>=0.21.0 (from cryptography>=1.3.4; python_version <= \"2.7\" and extra == \"secure\"->urllib3[secure]; python_version < \"3\"->coveralls->map-classifier==0.4.1)\n",
            "\u001b[?25l  Downloading https://files.pythonhosted.org/packages/ea/cd/35485615f45f30a510576f1a56d1e0a7ad7bd8ab5ed7cdc600ef7cd06222/asn1crypto-0.24.0-py2.py3-none-any.whl (101kB)\n",
            "\u001b[K    100% |████████████████████████████████| 102kB 22.6MB/s \n",
            "\u001b[?25hCollecting pycparser (from cffi>=1.7; platform_python_implementation != \"PyPy\"->cryptography>=1.3.4; python_version <= \"2.7\" and extra == \"secure\"->urllib3[secure]; python_version < \"3\"->coveralls->map-classifier==0.4.1)\n"
          ],
          "name": "stdout"
        },
        {
          "output_type": "stream",
          "text": [
            "\u001b[?25l  Downloading https://files.pythonhosted.org/packages/8c/2d/aad7f16146f4197a11f8e91fb81df177adcc2073d36a17b1491fd09df6ed/pycparser-2.18.tar.gz (245kB)\r\n",
            "\u001b[K    100% |████████████████████████████████| 256kB 25.2MB/s \n",
            "\u001b[?25hBuilding wheels for collected packages: map-classifier, sklearn, docopt, pycparser\n",
            "  Running setup.py bdist_wheel for map-classifier ... \u001b[?25l-\b \bdone\n",
            "\u001b[?25h  Stored in directory: /tmp/pip-ephem-wheel-cache-eBFUHO/wheels/cf/d7/7a/983c3f958fd26576ad7c658fa106f3d0fda0357ce1a045524c\n",
            "  Running setup.py bdist_wheel for sklearn ... \u001b[?25l-\b \bdone\n",
            "\u001b[?25h  Stored in directory: /content/.cache/pip/wheels/76/03/bb/589d421d27431bcd2c6da284d5f2286c8e3b2ea3cf1594c074\n",
            "  Running setup.py bdist_wheel for docopt ... \u001b[?25l-\b \bdone\n",
            "\u001b[?25h  Stored in directory: /content/.cache/pip/wheels/9b/04/dd/7daf4150b6d9b12949298737de9431a324d4b797ffd63f526e\n",
            "  Running setup.py bdist_wheel for pycparser ... \u001b[?25l-\b \b\\\b \bdone\n",
            "\u001b[?25h  Stored in directory: /content/.cache/pip/wheels/c0/a1/27/5ba234bd77ea5a290cbf6d675259ec52293193467a12ef1f46\n",
            "Successfully built map-classifier sklearn docopt pycparser\n",
            "Installing collected packages: numpy, scipy, coverage, docopt, coveralls, sklearn, map-classifier, pycparser, cffi, asn1crypto, ipaddress, cryptography, pyOpenSSL\n",
            "  Found existing installation: numpy 1.14.5\n",
            "    Uninstalling numpy-1.14.5:\n",
            "      Successfully uninstalled numpy-1.14.5\n",
            "  Found existing installation: scipy 0.19.1\n",
            "    Uninstalling scipy-0.19.1:\n",
            "      Successfully uninstalled scipy-0.19.1\n",
            "Successfully installed asn1crypto-0.24.0 cffi-1.11.5 coverage-4.5.1 coveralls-1.3.0 cryptography-2.2.2 docopt-0.6.2 ipaddress-1.0.22 map-classifier-0.4.1 numpy-1.14.0 pyOpenSSL-18.0.0 pycparser-2.18 scipy-1.0.0 sklearn-0.0\n"
          ],
          "name": "stdout"
        }
      ]
    },
    {
      "metadata": {
        "id": "olTd5FZ8eUqA",
        "colab_type": "code",
        "colab": {
          "base_uri": "https://localhost:8080/",
          "height": 34
        },
        "outputId": "bbd959f5-f803-444c-a709-01d72c36498b"
      },
      "cell_type": "code",
      "source": [
        "from sklearn.datasets import load_iris\n",
        "from sklearn import metrics\n",
        "from sklearn.model_selection import train_test_split\n",
        "\n",
        "import map_classifier\n",
        "\n",
        "\n",
        "# Load Iris data set\n",
        "X, y = load_iris(return_X_y=True)\n",
        "\n",
        "# Create a classifier\n",
        "clf = map_classifier.MAPClassifier()\n",
        "\n",
        "# Create training and test sets\n",
        "X_train, X_test, y_train, y_test = train_test_split(X, y,test_size=0.3, random_state=40)\n",
        "\n",
        "# Learn then model\n",
        "clf.fit(X_train, y_train)\n",
        "\n",
        "# Predict\n",
        "y_pred = clf.predict(X_test)\n",
        "\n",
        "# Calc accuracy\n",
        "test_accuracy = metrics.accuracy_score(y_test, y_pred)\n",
        "\n",
        "# Print the accuracy\n",
        "print(test_accuracy)"
      ],
      "execution_count": 5,
      "outputs": [
        {
          "output_type": "stream",
          "text": [
            "0.35555555555555557\n"
          ],
          "name": "stdout"
        }
      ]
    }
  ]
}